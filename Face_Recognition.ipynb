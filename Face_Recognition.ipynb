
    {
      "cell_type": "code",
      "metadata": {
        "id": "oP8DC1u01W7R",
        "colab_type": "code",
        "outputId": "e4fb5d24-e502-43e4-a071-d957d50f7773",
        "colab": {
          "base_uri": "https://localhost:8080/",
          "height": 34
        }
      },
      "source": [
        "\n",
        "from google.colab import drive\n",
        "drive.mount('/content/drive')"
      ],
      "execution_count": 0,
      "outputs": [
        {
          "output_type": "stream",
          "text": [
            "Drive already mounted at /content/drive; to attempt to forcibly remount, call drive.mount(\"/content/drive\", force_remount=True).\n"
          ],
          "name": "stdout"
        }
      ]
    },
    {
      "cell_type": "code",
      "metadata": {
        "id": "jPJKd6cfGRXg",
        "colab_type": "code",
        "colab": {}
      },
      "source": [
        "\n",
        "\n",
        "import numpy as np\n",
        "import cv2\n",
        "import math\n",
        "from PIL import Image\n",
        "import pickle\n",
        "import matplotlib.image as img\n",
        "from scipy import linalg\n",
        "#import pca"
      ],
      "execution_count": 0,
      "outputs": []
    },
    {
      "cell_type": "markdown",
      "metadata": {
        "id": "lVGV6A7FHn3G",
        "colab_type": "text"
      },
      "source": [
        "# **Importing Data**\n",
        "\n",
        "---\n",
        "\n"
      ]
    },
    {
      "cell_type": "code",
      "metadata": {
        "id": "wxqi_Zw56ubY",
        "colab_type": "code",
        "colab": {}
      },
      "source": [
        "\n",
        "\n",
        "\n",
        "imgMatrix = np.zeros((0, 10304))\n",
        "label_matrix = np.empty((0,400))\n",
        "\n",
        "folder = '/content/drive/My Drive/Colab Notebooks/attdatabase/'\n",
        "for j in range (1, 41):\n",
        "    direction = folder + 's' + str(j) + '/'\n",
        "    for i in range(1, 11):\n",
        "        directory = direction + str(i) + '.pgm'\n",
        "        image = img.imread(directory).T\n",
        "        #image = cv2.imread(directory, cv2.IMREAD_GRAYSCALE)\n",
        "        currentImg = np.asmatrix(image.flatten())\n",
        "        imgMatrix = np.concatenate((imgMatrix, currentImg))\n",
        "        label_matrix = np.append(label_matrix, j)\n",
        "        \n",
        "\n",
        "\n",
        "\n",
        "        \n",
        "        "
      ],
      "execution_count": 0,
      "outputs": []
    },
    {
      "cell_type": "markdown",
      "metadata": {
        "id": "-gzmx7mQHyMB",
        "colab_type": "text"
      },
      "source": [
        "# **Splitting to Test & Train**\n",
        "\n",
        "---\n",
        "\n"
      ]
    },
    {
      "cell_type": "code",
      "metadata": {
        "id": "bC7jbzXC_Dd3",
        "colab_type": "code",
        "colab": {}
      },
      "source": [
        "\n"
      ],
      "execution_count": 0,
      "outputs": []
    },
    {
      "cell_type": "code",
      "metadata": {
        "id": "ZIL5FRYl7iG-",
        "colab_type": "code",
        "colab": {}
      },
      "source": [
        "train_pct_index = int(0.7 * 10)\n",
        "train_set = np.zeros((0, 10304))\n",
        "test_set  = np.zeros((0, 10304))\n",
        "train_labels = np.empty((0,int(0.7*400)))\n",
        "test_labels = np.empty((0,int(0.3*400)))\n",
        "\n",
        "i=0\n",
        "for j in range(1,41):\n",
        "  train_set = np.concatenate((train_set, imgMatrix[i:train_pct_index]))\n",
        "  test_set = np.concatenate((test_set, imgMatrix[train_pct_index:i+10]))\n",
        "  print(train_pct_index)\n",
        "  \n",
        "  train_labels = np.append(train_labels, label_matrix[i:train_pct_index])\n",
        "  test_labels = np.append(test_labels, label_matrix[train_pct_index:i+10])\n",
        "  \n",
        "  train_pct_index+=10\n",
        "  i+=10\n",
        "\n",
        "\n",
        "\n"
      ],
      "execution_count": 0,
      "outputs": []
    },
    {
      "cell_type": "code",
      "metadata": {
        "id": "qWIUhe_kEOPA",
        "colab_type": "code",
        "outputId": "355d7f61-b63c-4482-e3c0-871102082ed4",
        "colab": {
          "base_uri": "https://localhost:8080/",
          "height": 168
        }
      },
      "source": [
        "\n",
        "train_set = imgMatrix[1:400:2]\n",
        "test_set = imgMatrix[0:400:2]\n",
        "\n",
        "train_labels = label_matrix[1:400:2]\n",
        "test_labels = label_matrix[0:400:2]\n",
        "\n",
        "print(imgMatrix.shape)\n",
        "print(train_set.shape)\n",
        "print(train_set)\n",
        "\n"
      ],
      "execution_count": 0,
      "outputs": [
        {
          "output_type": "stream",
          "text": [
            "(400, 10304)\n",
            "(200, 10304)\n",
            "[[ 60.  58.  68. ...  33.  31.  34.]\n",
            " [ 63.  56.  52. ...  25.  28.  24.]\n",
            " [ 43.  45.  57. ... 175. 174. 169.]\n",
            " ...\n",
            " [123. 128. 126. ...  44.  39.  42.]\n",
            " [125. 121. 122. ...  43.  35.  40.]\n",
            " [125. 124. 121. ...  35.  32.  34.]]\n"
          ],
          "name": "stdout"
        }
      ]
    },
    {
      "cell_type": "markdown",
      "metadata": {
        "id": "pEI53zZEHjHg",
        "colab_type": "text"
      },
      "source": [
        "# **PCA**\n",
        "\n",
        "---\n",
        "\n"
      ]
    },
    {
      "cell_type": "markdown",
      "metadata": {
        "id": "NGpe3555H-jk",
        "colab_type": "text"
      },
      "source": [
        "## **Eigenvalues & Vectors**"
      ]
    },
    {
      "cell_type": "code",
      "metadata": {
        "id": "m39djWj_3Kja",
        "colab_type": "code",
        "colab": {}
      },
      "source": [
        "def PCA (D):\n",
        "  \n",
        "  num_data, dim = D.shape\n",
        "  \n",
        "  mean_D= np.mean(D, axis=0)\n",
        "  D=D-mean_D\n",
        "  M=np.cov(D.T) \n",
        "  values, vectors=linalg.eig(M)\n",
        "  \n",
        "  return values, vectors"
      ],
      "execution_count": 0,
      "outputs": []
    },
    {
      "cell_type": "code",
      "metadata": {
        "id": "hlhKib-KPTX-",
        "colab_type": "code",
        "colab": {}
      },
      "source": [
        "def reduced_data (projMatrix, data):\n",
        "  \n",
        "  #r,n = data.shape\n",
        "  D = data - data.mean(axis=0)\n",
        "  A= np.matmul(D,projMatrix)\n",
        "  \n",
        "\n",
        "  return A"
      ],
      "execution_count": 0,
      "outputs": []
    },
    {
      "cell_type": "code",
      "metadata": {
        "id": "-tYVXzNFvngc",
        "colab_type": "code",
        "colab": {}
      },
      "source": [
        "def reduction (values, vectors, alpha):\n",
        "  \n",
        "  d = len(values)\n",
        " \n",
        "  totalsum=0.0\n",
        "  sum=0.0\n",
        "  \n",
        "  totalsum = np.sum(values)\n",
        " \n",
        "    \n",
        "  for r in range(0,d):\n",
        "    sum = sum + values[r]\n",
        "    f = sum/totalsum\n",
        "    #print(\"sum \" ,sum)\n",
        "   \n",
        "    if f >= alpha:\n",
        "      vectors = vectors[:,0:r]\n",
        "     # print(\"r \", r)\n",
        "      break\n",
        "      \n",
        "  return vectors"
      ],
      "execution_count": 0,
      "outputs": []
    },
    {
      "cell_type": "code",
      "metadata": {
        "id": "CO2duebER2t6",
        "colab_type": "code",
        "colab": {}
      },
      "source": [
        "values_train, vectors_train=  PCA(train_set)\n",
        "#values_test, vectors_test= PCA(test_set)"
      ],
      "execution_count": 0,
      "outputs": []
    },
    {
      "cell_type": "markdown",
      "metadata": {
        "id": "3ltPQd9cIGcj",
        "colab_type": "text"
      },
      "source": [
        "## **Data Reduction**"
      ]
    },
    {
      "cell_type": "code",
      "metadata": {
        "id": "cFP5Ni6g2EII",
        "colab_type": "code",
        "outputId": "c7f91020-de48-43e5-ad2e-99f2dd06a899",
        "colab": {
          "base_uri": "https://localhost:8080/",
          "height": 420
        }
      },
      "source": [
        "alpha=[0.8,0.85,0.9,0.95]\n",
        "train_data =[]\n",
        "test_data =[]\n",
        "for i in range (0,4):\n",
        "  \n",
        "  U = reduction (values_train, vectors_train, alpha[i])\n",
        "  A = reduced_data(U, train_set )\n",
        "  print (\"reduced train matrix for alpha = \", alpha[i]) \n",
        "  print(A.shape)\n",
        "  train_data.append(A)\n",
        "  print(\"___________________________________________________\")\n",
        "  \n",
        "  A = reduced_data(U, test_set )\n",
        " \n",
        "  print (\"reduced test matrix for alpha = \", alpha[i]) \n",
        "  print(A.shape)\n",
        "  test_data.append(A)\n",
        "  print(\"___________________________________________________\")\n",
        "\n",
        " \n"
      ],
      "execution_count": 0,
      "outputs": [
        {
          "output_type": "stream",
          "text": [
            "reduced train matrix for alpha =  0.8\n",
            "(280, 38)\n",
            "___________________________________________________\n",
            "reduced test matrix for alpha =  0.8\n",
            "(120, 38)\n",
            "___________________________________________________\n",
            "reduced train matrix for alpha =  0.85\n",
            "(280, 56)\n",
            "___________________________________________________\n",
            "reduced test matrix for alpha =  0.85\n",
            "(120, 56)\n",
            "___________________________________________________\n",
            "reduced train matrix for alpha =  0.9\n",
            "(280, 88)\n",
            "___________________________________________________\n",
            "reduced test matrix for alpha =  0.9\n",
            "(120, 88)\n",
            "___________________________________________________\n",
            "reduced train matrix for alpha =  0.95\n",
            "(280, 144)\n",
            "___________________________________________________\n",
            "reduced test matrix for alpha =  0.95\n",
            "(120, 144)\n",
            "___________________________________________________\n"
          ],
          "name": "stdout"
        }
      ]
    },
    {
      "cell_type": "markdown",
      "metadata": {
        "id": "AQHWtIa8mYZL",
        "colab_type": "text"
      },
      "source": [
        "## **KNN**"
      ]
    },
    {
      "cell_type": "code",
      "metadata": {
        "id": "bpqzyvSPa-IH",
        "colab_type": "code",
        "colab": {}
      },
      "source": [
        "from sklearn.neighbors import KNeighborsClassifier\n",
        "from sklearn.metrics import accuracy_score\n",
        "\n",
        "alpha=[0.8,0.85,0.9,0.95]\n",
        "def KNN (i, k, trainX, testX, trainY, testY):\n",
        "  \n",
        "  model = KNeighborsClassifier(n_neighbors=k)\n",
        "  #train model to fit data \n",
        "  model.fit(trainX[i].real, trainY)\n",
        "  \n",
        "  #Predict Output\n",
        "  predicted= model.predict(testX[i].real) \n",
        "  #print(\"Predicted for alpha = \", alpha[i],\" and k = \", k)\n",
        "  #print(predicted)\n",
        "  accuracy = accuracy_score(testY,predicted)\n",
        "  print(\"Accuracy for  k =\",k,\"and alpha = \", alpha[i],\": \",accuracy*100,\"%\")\n",
        "  print(\"________________________________________________________________________\")\n",
        "  \n",
        "  return accuracy, predicted\n"
      ],
      "execution_count": 0,
      "outputs": []
    },
    {
      "cell_type": "code",
      "metadata": {
        "id": "X4C2_YfGghjp",
        "colab_type": "code",
        "outputId": "b6f34043-c005-4e76-e255-ba66fff6b45e",
        "colab": {
          "base_uri": "https://localhost:8080/",
          "height": 569
        }
      },
      "source": [
        "import matplotlib.pyplot as plt\n",
        "\n",
        "for alphaIndex in range(0,4):          \n",
        "  predicted, accuracy = KNN(alphaIndex ,1,train_data, test_data, train_labels, test_labels) \n",
        "         \n",
        "k=[1,3,5,7]\n",
        "accuracy =[]\n",
        "for kIndex in range (0,4):\n",
        "  \n",
        "  acc, predicted = KNN(0 ,k[kIndex],train_data, test_data, train_labels, test_labels)          \n",
        "  accuracy.append(acc)\n",
        "\n",
        "\n",
        "plt.plot(k,accuracy)\n",
        "plt.ylabel(\"Accuracy\")\n",
        "plt.xlabel(\"K\")\n",
        "plt.show"
      ],
      "execution_count": 0,
      "outputs": [
        {
          "output_type": "stream",
          "text": [
            "Accuracy for  k = 1 and alpha =  0.8 :  96.66666666666667 %\n",
            "________________________________________________________________________\n",
            "Accuracy for  k = 1 and alpha =  0.85 :  95.83333333333334 %\n",
            "________________________________________________________________________\n",
            "Accuracy for  k = 1 and alpha =  0.9 :  95.0 %\n",
            "________________________________________________________________________\n",
            "Accuracy for  k = 1 and alpha =  0.95 :  94.16666666666667 %\n",
            "________________________________________________________________________\n",
            "Accuracy for  k = 1 and alpha =  0.8 :  96.66666666666667 %\n",
            "________________________________________________________________________\n",
            "Accuracy for  k = 3 and alpha =  0.8 :  92.5 %\n",
            "________________________________________________________________________\n",
            "Accuracy for  k = 5 and alpha =  0.8 :  90.83333333333333 %\n",
            "________________________________________________________________________\n",
            "Accuracy for  k = 7 and alpha =  0.8 :  86.66666666666667 %\n",
            "________________________________________________________________________\n"
          ],
          "name": "stdout"
        },
        {
          "output_type": "execute_result",
          "data": {
            "text/plain": [
              "<function matplotlib.pyplot.show>"
            ]
          },
          "metadata": {
            "tags": []
          },
          "execution_count": 29
        },
        {
          "output_type": "display_data",
          "data": {
            "image/png": "iVBORw0KGgoAAAANSUhEUgAAAYsAAAEKCAYAAADjDHn2AAAABHNCSVQICAgIfAhkiAAAAAlwSFlz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\n",
            "text/plain": [
              "<Figure size 432x288 with 1 Axes>"
            ]
          },
          "metadata": {
            "tags": []
          }
        }
      ]
    },
    {
      "cell_type": "markdown",
      "metadata": {
        "id": "JnqC-SAkHWO5",
        "colab_type": "text"
      },
      "source": [
        "# **LDA**\n",
        "\n",
        "---\n",
        "\n"
      ]
    },
    {
      "cell_type": "code",
      "metadata": {
        "id": "fN41qNAGbtYe",
        "colab_type": "code",
        "colab": {}
      },
      "source": [
        "import numpy as np\n",
        "def LDA(D, labels):\n",
        "  \n",
        "  #Mean Vectors\n",
        "  mean_vectors = []\n",
        "  for m in range(1,41):\n",
        "    mean_vectors.append(np.mean(D[labels==m], axis=0))\n",
        "    #print('Mean Vector class %s: %s\\n' %(m, mean_vectors[m-1]))\n",
        "  #Getting Sb/B Matrix \n",
        "  m=40\n",
        "  Sb=0\n",
        "  nk = 5\n",
        "  for k in range (0,m):\n",
        "    factor = (mean_vectors[k] - np.mean(D, axis=0))\n",
        "    Sb = Sb + nk*factor.T*factor\n",
        "    \n",
        "  #Getting S Matrix\n",
        "  S = np.zeros((10304,10304))\n",
        "  for m,mv in zip(range(1,41), mean_vectors):\n",
        "      class_sc_mat = np.zeros((10304,10304)) # scatter matrix for every class\n",
        "      for row in D[labels == m]:\n",
        "          row, mv = row.T, mv.T # make column vectors\n",
        "          class_sc_mat = (row-mv).dot((row-mv).T)\n",
        "          \n",
        "      S += class_sc_mat # sum class scatter matrices\n",
        "      print(\"# \",m,\": \",S.shape)\n",
        "      \n",
        "  vals, vectors = eignvalues(Sb.T, S)\n",
        "  return abs(vals), vectors #abs to find largest absolute/dominant eigenvalues\n",
        "   \n",
        " "
      ],
      "execution_count": 0,
      "outputs": []
    },
    {
      "cell_type": "code",
      "metadata": {
        "id": "VbGJ5_UNBUN2",
        "colab_type": "code",
        "colab": {}
      },
      "source": [
        "def reduced_data_lda (projMatrix, data):\n",
        "  \n",
        "  #r,n = data.shape\n",
        "  D = data - data.mean(axis=0)\n",
        "  print(\"D: \",D.shape)\n",
        "  print(\"PM: \", projMatrix.shape)\n",
        "  A= np.matmul(D,projMatrix.T)\n",
        " \n",
        "  return A"
      ],
      "execution_count": 0,
      "outputs": []
    },
    {
      "cell_type": "code",
      "metadata": {
        "id": "Rvuc0YDNw3IG",
        "colab_type": "code",
        "colab": {}
      },
      "source": [
        "def eignvalues (Sb, S):\n",
        "  eig_vals, eig_vecs = np.linalg.eig(np.linalg.inv(S).dot(Sb))\n",
        "  return eig_vals, eig_vecs\n",
        "\n",
        "def getProjMatrix (val, vec):\n",
        "  #sort eig vals and vecs\n",
        "  eig_vals_sorted = np.sort(val)[::-1][:len(val)]\n",
        "  eig_vecs_sorted = vec[:, (val).argsort()[::-1][:len(val)]]\n",
        "\n",
        "  U = eig_vecs_sorted[0:39,:]\n",
        "  return U"
      ],
      "execution_count": 0,
      "outputs": []
    },
    {
      "cell_type": "markdown",
      "metadata": {
        "id": "DUQyIDAO87bV",
        "colab_type": "text"
      },
      "source": [
        "## **Getting Projection Matrix**"
      ]
    },
    {
      "cell_type": "code",
      "metadata": {
        "id": "SBmlbMA7QwGN",
        "colab_type": "code",
        "outputId": "a1c61602-c54a-4ac0-f5a0-a735ae5cb9eb",
        "colab": {
          "base_uri": "https://localhost:8080/",
          "height": 706
        }
      },
      "source": [
        "\n",
        "val, vec = LDA (train_set, train_labels)\n",
        "U = getProjMatrix(val, vec)\n",
        "print(U.shape)"
      ],
      "execution_count": 0,
      "outputs": [
        {
          "output_type": "stream",
          "text": [
            "#  1 :  (10304, 10304)\n",
            "#  2 :  (10304, 10304)\n",
            "#  3 :  (10304, 10304)\n",
            "#  4 :  (10304, 10304)\n",
            "#  5 :  (10304, 10304)\n",
            "#  6 :  (10304, 10304)\n",
            "#  7 :  (10304, 10304)\n",
            "#  8 :  (10304, 10304)\n",
            "#  9 :  (10304, 10304)\n",
            "#  10 :  (10304, 10304)\n",
            "#  11 :  (10304, 10304)\n",
            "#  12 :  (10304, 10304)\n",
            "#  13 :  (10304, 10304)\n",
            "#  14 :  (10304, 10304)\n",
            "#  15 :  (10304, 10304)\n",
            "#  16 :  (10304, 10304)\n",
            "#  17 :  (10304, 10304)\n",
            "#  18 :  (10304, 10304)\n",
            "#  19 :  (10304, 10304)\n",
            "#  20 :  (10304, 10304)\n",
            "#  21 :  (10304, 10304)\n",
            "#  22 :  (10304, 10304)\n",
            "#  23 :  (10304, 10304)\n",
            "#  24 :  (10304, 10304)\n",
            "#  25 :  (10304, 10304)\n",
            "#  26 :  (10304, 10304)\n",
            "#  27 :  (10304, 10304)\n",
            "#  28 :  (10304, 10304)\n",
            "#  29 :  (10304, 10304)\n",
            "#  30 :  (10304, 10304)\n",
            "#  31 :  (10304, 10304)\n",
            "#  32 :  (10304, 10304)\n",
            "#  33 :  (10304, 10304)\n",
            "#  34 :  (10304, 10304)\n",
            "#  35 :  (10304, 10304)\n",
            "#  36 :  (10304, 10304)\n",
            "#  37 :  (10304, 10304)\n",
            "#  38 :  (10304, 10304)\n",
            "#  39 :  (10304, 10304)\n",
            "#  40 :  (10304, 10304)\n",
            "(39, 10304)\n"
          ],
          "name": "stdout"
        }
      ]
    },
    {
      "cell_type": "markdown",
      "metadata": {
        "id": "vkd5WuFM82ay",
        "colab_type": "text"
      },
      "source": [
        "## **Data Reduction**"
      ]
    },
    {
      "cell_type": "code",
      "metadata": {
        "id": "i-mgSfuIrqC6",
        "colab_type": "code",
        "outputId": "3e763548-a06f-4458-f187-fad9d0dfb1d3",
        "colab": {
          "base_uri": "https://localhost:8080/",
          "height": 185
        }
      },
      "source": [
        "\n",
        "Atrain = reduced_data_lda(U, train_set )\n",
        "print (\"reduced train matrix  = \") \n",
        "print(Atrain.shape)\n",
        "print(\"___________________________________________________\")\n",
        "  \n",
        "Atest = reduced_data_lda(U, test_set )\n",
        "print (\"reduced test matrix = \") \n",
        "print(Atest.shape)\n",
        "print(\"___________________________________________________\")"
      ],
      "execution_count": 0,
      "outputs": [
        {
          "output_type": "stream",
          "text": [
            "D:  (200, 10304)\n",
            "PM:  (39, 10304)\n",
            "reduced train matrix  = \n",
            "(200, 39)\n",
            "___________________________________________________\n",
            "D:  (200, 10304)\n",
            "PM:  (39, 10304)\n",
            "reduced test matrix = \n",
            "(200, 39)\n",
            "___________________________________________________\n"
          ],
          "name": "stdout"
        }
      ]
    },
    {
      "cell_type": "markdown",
      "metadata": {
        "id": "4UgL1BfX8rEi",
        "colab_type": "text"
      },
      "source": [
        "## **Classifier Tuning and Plotting Results**"
      ]
    },
    {
      "cell_type": "markdown",
      "metadata": {
        "id": "Z5OQxGh-meAl",
        "colab_type": "text"
      },
      "source": [
        "## **KNN**"
      ]
    },
    {
      "cell_type": "code",
      "metadata": {
        "id": "q3k2wWkHmhA7",
        "colab_type": "code",
        "colab": {}
      },
      "source": [
        "from sklearn.neighbors import KNeighborsClassifier\n",
        "from sklearn.metrics import accuracy_score\n",
        "\n",
        "#alpha=[0.8,0.85,0.9,0.95]\n",
        "def KNN_lda ( k, trainX, testX, trainY, testY):\n",
        "  \n",
        "  model = KNeighborsClassifier(n_neighbors=k)\n",
        "  #train model to fit data \n",
        "  model.fit(trainX.real, trainY)\n",
        "  \n",
        "  #Predict Output\n",
        "  predicted= model.predict(testX.real) \n",
        "  #print(\"Predicted for alpha = \", alpha[i],\" and k = \", k)\n",
        "  #print(predicted)\n",
        "  accuracy = accuracy_score(testY,predicted)\n",
        "  print(\"Accuracy for  k =\",k,\":\" ,accuracy*100,\"%\")\n",
        "  print(\"________________________________________________________________________\")\n",
        "  \n",
        "  return accuracy, predicted"
      ],
      "execution_count": 0,
      "outputs": []
    },
    {
      "cell_type": "code",
      "metadata": {
        "id": "Yu2LsoFaPbEP",
        "colab_type": "code",
        "outputId": "47332728-3e64-46b8-cd69-66430977cc2d",
        "colab": {
          "base_uri": "https://localhost:8080/",
          "height": 434
        }
      },
      "source": [
        "import matplotlib.pyplot as plt\n",
        "k=[1,3,5,7]\n",
        "accuracy =[]\n",
        "for kIndex in range (0,4):\n",
        "  \n",
        "  acc, predicted = KNN_lda(k[kIndex],Atrain, Atest, train_labels, test_labels)          \n",
        "  accuracy.append(acc)\n",
        "\n",
        "\n",
        "plt.plot(k,accuracy)\n",
        "plt.ylabel(\"Accuracy\")\n",
        "plt.xlabel(\"K\")\n",
        "plt.show"
      ],
      "execution_count": 0,
      "outputs": [
        {
          "output_type": "stream",
          "text": [
            "Accuracy for  k = 1 : 83.5 %\n",
            "________________________________________________________________________\n",
            "Accuracy for  k = 3 : 70.0 %\n",
            "________________________________________________________________________\n",
            "Accuracy for  k = 5 : 70.5 %\n",
            "________________________________________________________________________\n",
            "Accuracy for  k = 7 : 68.5 %\n",
            "________________________________________________________________________\n"
          ],
          "name": "stdout"
        },
        {
          "output_type": "execute_result",
          "data": {
            "text/plain": [
              "<function matplotlib.pyplot.show>"
            ]
          },
          "metadata": {
            "tags": []
          },
          "execution_count": 26
        },
        {
          "output_type": "display_data",
          "data": {
            "image/png": "iVBORw0KGgoAAAANSUhEUgAAAYsAAAEKCAYAAADjDHn2AAAABHNCSVQICAgIfAhkiAAAAAlwSFlz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\nrIXbAAAAAElFTkSuQmCC\n",
            "text/plain": [
              "<Figure size 432x288 with 1 Axes>"
            ]
          },
          "metadata": {
            "tags": []
          }
        }
      ]
    }
  ]
}
